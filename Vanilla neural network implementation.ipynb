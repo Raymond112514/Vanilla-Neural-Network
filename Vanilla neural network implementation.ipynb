{
 "cells": [
  {
   "cell_type": "code",
   "execution_count": 32,
   "id": "52a633a8",
   "metadata": {},
   "outputs": [],
   "source": [
    "import numpy as np\n",
    "import matplotlib.pyplot as plt"
   ]
  },
  {
   "cell_type": "markdown",
   "id": "4192cca2",
   "metadata": {},
   "source": [
    "## Modular implementation of vanilla neural network"
   ]
  },
  {
   "cell_type": "markdown",
   "id": "aae99a83",
   "metadata": {},
   "source": [
    "Consider the single layer neural network given by \n",
    "$$x \\rightarrow z=Wx+b\\rightarrow a=f(z)\\rightarrow l(a,y)$$\n",
    "Where $x\\in \\mathbb{R}^p$, $W\\in \\mathbb{R}^{n\\times p}$ and $b\\in \\mathbb{R}^{p}$, and $l$ denote the loss function. To perform back-propagation, we use the formula that\n",
    "$$\\frac{\\partial l}{\\partial W}=(f'(z)\\odot l'(a,y))\\cdot x^T$$\n",
    "$$\\frac{\\partial l}{\\partial b}=(f'(z)\\odot l'(a,y))$$\n",
    "Where $\\odot$ represent component-wise multiplication"
   ]
  },
  {
   "cell_type": "code",
   "execution_count": 75,
   "id": "ff9dd08a",
   "metadata": {},
   "outputs": [],
   "source": [
    "class Dense:\n",
    "    \n",
    "    def __init__(self, \n",
    "                 input_dim: int, \n",
    "                 output_dim: int, \n",
    "                 activation: callable, \n",
    "                 derivative: callable, \n",
    "                 learning_rate=0.01,\n",
    "                 vectorize=True,\n",
    "                 initialize_variance=0.01):\n",
    "        \n",
    "        self.W = np.random.normal(loc=0, scale=initialize_variance, size=(output_dim, input_dim))\n",
    "        self.b = np.random.normal(loc=0, scale=initialize_variance, size=(output_dim, 1))\n",
    "        self.x = 0\n",
    "        self.z = 0\n",
    "        self.a = 0\n",
    "        self.lr = learning_rate\n",
    "        self.activation = activation\n",
    "        self.derivative = derivative\n",
    "        if vectorize:\n",
    "            self.activation = np.vectorize(self.activation)\n",
    "            self.derivative = np.vectorize(self.derivative)\n",
    "        \n",
    "        \n",
    "    def forward(self, x):\n",
    "        self.x = x.reshape(-1, 1)\n",
    "        self.z = np.dot(self.W, self.x) + self.b\n",
    "        self.a = self.activation(self.z)\n",
    "        return self.a\n",
    "    \n",
    "    def backward(self, grad):\n",
    "        grad = grad * self.derivative(self.z)\n",
    "        grad_w = np.dot(grad, self.x.T)\n",
    "        grad_b = grad\n",
    "        self.W -= self.lr * grad_w\n",
    "        self.b -= self.lr * grad_b\n",
    "        grad = np.dot(self.W.T, grad)\n",
    "        return grad"
   ]
  },
  {
   "cell_type": "code",
   "execution_count": 76,
   "id": "37a9e681",
   "metadata": {},
   "outputs": [
    {
     "name": "stdout",
     "output_type": "stream",
     "text": [
      "Shape after forward propagation: (5, 1)\n",
      "[[2.23405788e-05]\n",
      " [7.99563534e-05]\n",
      " [4.31979307e-04]\n",
      " [4.60636646e-05]\n",
      " [3.50220775e-04]]\n"
     ]
    }
   ],
   "source": [
    "## Test the output of forward propagation\n",
    "act = lambda x: x ** 2\n",
    "der = lambda x: 2 * x\n",
    "n = Dense(3, 5, act, der, 0.1)\n",
    "x = np.random.normal(loc=0, scale=1, size=(3, ))\n",
    "a = n.forward(x)\n",
    "print(f\"Shape after forward propagation: {a.shape}\")\n",
    "print(a)"
   ]
  },
  {
   "cell_type": "code",
   "execution_count": 77,
   "id": "1cea3830",
   "metadata": {},
   "outputs": [
    {
     "name": "stdout",
     "output_type": "stream",
     "text": [
      "Shape after forward propagation: (3, 1)\n",
      "[[ 0.00011657]\n",
      " [-0.00043605]\n",
      " [-0.00116022]]\n"
     ]
    }
   ],
   "source": [
    "## Test the output of backward propagation\n",
    "act = lambda x: x ** 2\n",
    "der = lambda x: 2 * x\n",
    "n = Dense(3, 5, act, der, 0.01)\n",
    "x = np.random.normal(loc=0, scale=1, size=(3, 1))\n",
    "a = n.forward(x)\n",
    "y = np.random.normal(loc=0, scale=1, size=(5, 1))\n",
    "b = n.backward(y)\n",
    "print(f\"Shape after forward propagation: {b.shape}\")\n",
    "print(b)"
   ]
  },
  {
   "cell_type": "markdown",
   "id": "0b42e1ed",
   "metadata": {},
   "source": [
    "## Training a dense neural network on MNIST dataset (without using batches)"
   ]
  },
  {
   "cell_type": "code",
   "execution_count": 78,
   "id": "a8cb3997",
   "metadata": {},
   "outputs": [],
   "source": [
    "from keras.datasets import mnist"
   ]
  },
  {
   "cell_type": "code",
   "execution_count": 79,
   "id": "6cefcfa4",
   "metadata": {},
   "outputs": [],
   "source": [
    "from keras.utils import to_categorical"
   ]
  },
  {
   "cell_type": "code",
   "execution_count": 80,
   "id": "f2d2f60b",
   "metadata": {},
   "outputs": [
    {
     "name": "stdout",
     "output_type": "stream",
     "text": [
      "Train images shape: (600, 28, 28)\n",
      "Train labels shape: (600,)\n"
     ]
    }
   ],
   "source": [
    "(train_images, train_labels), (test_images, test_labels) = mnist.load_data()\n",
    "\n",
    "train_samples = 600\n",
    "train_images = train_images[:train_samples, :]\n",
    "train_labels = train_labels[:train_samples]\n",
    "\n",
    "print(\"Train images shape:\", train_images.shape)\n",
    "print(\"Train labels shape:\", train_labels.shape)"
   ]
  },
  {
   "cell_type": "code",
   "execution_count": 81,
   "id": "8b175ee5",
   "metadata": {},
   "outputs": [
    {
     "name": "stdout",
     "output_type": "stream",
     "text": [
      "Train images shape: (600, 784)\n"
     ]
    }
   ],
   "source": [
    "train_images = train_images.reshape(train_images.shape[0], -1)\n",
    "\n",
    "print(\"Train images shape:\", train_images.shape)"
   ]
  },
  {
   "cell_type": "code",
   "execution_count": 82,
   "id": "5322005c",
   "metadata": {},
   "outputs": [
    {
     "name": "stdout",
     "output_type": "stream",
     "text": [
      "Train labels shape: (600, 10)\n"
     ]
    }
   ],
   "source": [
    "train_labels = to_categorical(train_labels, num_classes=10)\n",
    "print(\"Train labels shape:\", train_labels.shape)"
   ]
  },
  {
   "cell_type": "code",
   "execution_count": 83,
   "id": "83d20d4c",
   "metadata": {},
   "outputs": [],
   "source": [
    "train_images = train_images / 255"
   ]
  },
  {
   "cell_type": "code",
   "execution_count": 84,
   "id": "785d2b2a",
   "metadata": {},
   "outputs": [],
   "source": [
    "relu = lambda x: max(x, 0)\n",
    "relu_prime = lambda x: 1 if x >= 0 else 0"
   ]
  },
  {
   "cell_type": "code",
   "execution_count": 85,
   "id": "79edc046",
   "metadata": {},
   "outputs": [],
   "source": [
    "def softmax(x):\n",
    "    e_x = np.exp(x)\n",
    "    return e_x / np.sum(e_x, axis=0)\n",
    "\n",
    "def softmax_prime(x):\n",
    "    e_x = np.exp(x)\n",
    "    numerator = e_x * np.sum(e_x, axis=0) - np.exp(2 * x)\n",
    "    return numerator / np.sum(e_x, axis=0) ** 2"
   ]
  },
  {
   "cell_type": "code",
   "execution_count": 13,
   "id": "5c033946",
   "metadata": {},
   "outputs": [],
   "source": [
    "def loss(y_true, y_pred):\n",
    "    return np.sqrt(np.sum((y_true - y_pred) ** 2)) / len(y_true)\n",
    "\n",
    "def loss_prime(y_true, y_pred):\n",
    "    return 2 * (y_true - y_pred)"
   ]
  },
  {
   "cell_type": "code",
   "execution_count": 14,
   "id": "a9dcb30b",
   "metadata": {},
   "outputs": [],
   "source": [
    "class Model:\n",
    "    \n",
    "    def __init__(self, input_dim):\n",
    "        self.layer1 = Dense(input_dim, 32, relu, relu_prime)\n",
    "        self.layer2 = Dense(32, 10, softmax, softmax_prime, vectorize=False)\n",
    "        self.layers = [self.layer1, self.layer2]\n",
    "        self.loss = loss\n",
    "        self.loss_prime = loss_prime\n",
    "        self.num_layers = len(self.layers)\n",
    "        \n",
    "    def run(self, x):\n",
    "        for i in range(self.num_layers):\n",
    "            x = self.layers[i].forward(x)\n",
    "        return x\n",
    "            \n",
    "    def backprop(self, grad):\n",
    "        for j in range(self.num_layers - 1, -1, -1):\n",
    "            grad = self.layers[j].backward(grad)\n",
    "        return grad\n",
    "        \n",
    "    def train(self, num_epochs, X, Y):\n",
    "        num_samples = len(X)\n",
    "        for epoch in range(num_epochs):\n",
    "            avg_loss = 0\n",
    "            for i in range(num_samples):\n",
    "                x = X[i]\n",
    "                y = Y[i].reshape(-1, 1)\n",
    "                \n",
    "                x = self.run(x)\n",
    "                \n",
    "                loss = self.loss(x, y)\n",
    "                avg_loss += loss\n",
    "                grad = self.loss_prime(x, y)\n",
    "                \n",
    "                grad = self.backprop(grad)\n",
    "                    \n",
    "            if epoch % 5 == 0:\n",
    "                print(f\"Loss at epoch {epoch}: {avg_loss / num_samples}\")        \n",
    "                print(\"-----------------------------------------------------------\")\n",
    "    \n",
    "    def predict(self, X):\n",
    "        num_samples = len(X)\n",
    "        predictions = []\n",
    "        for i in range(num_samples):\n",
    "            x = X[i]\n",
    "            result = self.run(x)\n",
    "            predictions.append(np.argmax(result))\n",
    "        return np.array(predictions)\n",
    "            "
   ]
  },
  {
   "cell_type": "code",
   "execution_count": 16,
   "id": "26e4d6c0",
   "metadata": {},
   "outputs": [
    {
     "name": "stdout",
     "output_type": "stream",
     "text": [
      "Loss at epoch 0: 0.09463218012697366\n",
      "-----------------------------------------------------------\n",
      "Loss at epoch 5: 0.06012805077929425\n",
      "-----------------------------------------------------------\n",
      "Loss at epoch 10: 0.03200673601856607\n",
      "-----------------------------------------------------------\n",
      "Loss at epoch 15: 0.020710267164585582\n",
      "-----------------------------------------------------------\n",
      "Loss at epoch 20: 0.01551662224766179\n",
      "-----------------------------------------------------------\n",
      "Loss at epoch 25: 0.014855057638488154\n",
      "-----------------------------------------------------------\n",
      "Loss at epoch 30: 0.009073208120721678\n",
      "-----------------------------------------------------------\n",
      "Loss at epoch 35: 0.008291375041281168\n",
      "-----------------------------------------------------------\n",
      "Loss at epoch 40: 0.004862065010569293\n",
      "-----------------------------------------------------------\n",
      "Loss at epoch 45: 0.004187049592634399\n",
      "-----------------------------------------------------------\n",
      "Loss at epoch 50: 0.0036230876432250675\n",
      "-----------------------------------------------------------\n",
      "Loss at epoch 55: 0.0027386471233784375\n",
      "-----------------------------------------------------------\n",
      "Loss at epoch 60: 0.0027113880593813895\n",
      "-----------------------------------------------------------\n",
      "Loss at epoch 65: 0.002221848474591735\n",
      "-----------------------------------------------------------\n"
     ]
    }
   ],
   "source": [
    "model = Model(28 * 28)\n",
    "model.train(70, train_images, train_labels)"
   ]
  },
  {
   "cell_type": "code",
   "execution_count": 17,
   "id": "4bf160de",
   "metadata": {},
   "outputs": [
    {
     "name": "stdout",
     "output_type": "stream",
     "text": [
      "Shape of predictions: (10,)\n",
      "Predictions: [7 2 1 0 4 1 4 9 2 9]\n",
      "Ground truth: [7 2 1 0 4 1 4 9 5 9]\n"
     ]
    }
   ],
   "source": [
    "test_samples = 10\n",
    "test_X = test_images[:test_samples, :]\n",
    "test_y = test_labels[:test_samples]\n",
    "test_X = test_X.reshape(test_X.shape[0], -1)\n",
    "test_X = test_X / 255\n",
    "predictions = model.predict(test_X)\n",
    "\n",
    "print(f\"Shape of predictions: {predictions.shape}\")\n",
    "print(f\"Predictions: {model.predict(test_X)}\")\n",
    "print(f\"Ground truth: {test_y}\")"
   ]
  },
  {
   "cell_type": "code",
   "execution_count": 18,
   "id": "8e2d1133",
   "metadata": {},
   "outputs": [
    {
     "name": "stdout",
     "output_type": "stream",
     "text": [
      "Accuracy of the model is: 82.0 %\n"
     ]
    }
   ],
   "source": [
    "test_samples = 1000\n",
    "test_X = test_images[:test_samples, :]\n",
    "test_y = test_labels[:test_samples]\n",
    "test_X = test_X.reshape(test_X.shape[0], -1)\n",
    "test_X = test_X / 255\n",
    "predictions = model.predict(test_X)\n",
    "\n",
    "predictions = model.predict(test_X)\n",
    "accuracy = np.count_nonzero(predictions == test_y) * 100 / test_samples\n",
    "print(f\"Accuracy of the model is: {accuracy} %\")"
   ]
  },
  {
   "cell_type": "markdown",
   "id": "90fdbbbb",
   "metadata": {},
   "source": [
    "## Training a dense neural network to approximate cosine function"
   ]
  },
  {
   "cell_type": "code",
   "execution_count": 149,
   "id": "c7cb6496",
   "metadata": {},
   "outputs": [],
   "source": [
    "def generate_data(k):\n",
    "    x = 1 * np.random.rand(k)\n",
    "    y = np.cos(x)\n",
    "    return x, y"
   ]
  },
  {
   "cell_type": "code",
   "execution_count": 150,
   "id": "51763cb0",
   "metadata": {},
   "outputs": [],
   "source": [
    "x_train, y_train = generate_data(60)"
   ]
  },
  {
   "cell_type": "code",
   "execution_count": 151,
   "id": "0c737639",
   "metadata": {},
   "outputs": [
    {
     "data": {
      "image/png": "[encoded data removed]",
      "text/plain": [
       "<Figure size 640x480 with 1 Axes>"
      ]
     },
     "metadata": {},
     "output_type": "display_data"
    }
   ],
   "source": [
    "plt.scatter(x_train, y_train)\n",
    "plt.xlabel(\"x\")\n",
    "plt.ylabel(\"y\")\n",
    "plt.title(\"Training data\")\n",
    "plt.show()"
   ]
  },
  {
   "cell_type": "code",
   "execution_count": 152,
   "id": "4f687049",
   "metadata": {},
   "outputs": [],
   "source": [
    "x_train = x_train.reshape(-1, 1)\n",
    "y_train = y_train.reshape(-1, 1)"
   ]
  },
  {
   "cell_type": "code",
   "execution_count": 172,
   "id": "7e5da83c",
   "metadata": {},
   "outputs": [],
   "source": [
    "def tanh(x):\n",
    "    return np.tanh(x)\n",
    "\n",
    "def tanh_prime(x):\n",
    "    return 1 / (np.cosh(x) ** 2)"
   ]
  },
  {
   "cell_type": "code",
   "execution_count": 230,
   "id": "e2d11194",
   "metadata": {},
   "outputs": [],
   "source": [
    "class Model:\n",
    "    \n",
    "    def __init__(self, input_dim):\n",
    "        self.layer1 = Dense(input_dim, 32, tanh, tanh_prime, learning_rate=0.05, initialize_variance=0.1)\n",
    "        self.layer2 = Dense(32, 1, tanh, tanh_prime, learning_rate=0.05, initialize_variance=0.1)\n",
    "        self.layers = [self.layer1, self.layer2]\n",
    "        self.loss = loss\n",
    "        self.loss_prime = loss_prime\n",
    "        self.num_layers = len(self.layers)\n",
    "        \n",
    "    def run(self, x):\n",
    "        for i in range(self.num_layers):\n",
    "            x = self.layers[i].forward(x)\n",
    "#         print(f\"Prediction: {self.layers[1].a}\")\n",
    "        return x\n",
    "            \n",
    "    def backprop(self, grad):\n",
    "        for j in range(self.num_layers - 1, -1, -1):\n",
    "            grad = self.layers[j].backward(grad)\n",
    "        return grad\n",
    "        \n",
    "    def train(self, num_epochs, X, Y):\n",
    "        num_samples = len(X)\n",
    "        for epoch in range(num_epochs):\n",
    "            avg_loss = 0\n",
    "            for i in range(num_samples):\n",
    "                x = X[i]\n",
    "                y = Y[i]\n",
    "                \n",
    "                x = self.run(x)\n",
    "                \n",
    "                loss = self.loss(x, y)\n",
    "                avg_loss += loss\n",
    "                grad = self.loss_prime(x, y)\n",
    "                \n",
    "                grad = self.backprop(grad)\n",
    "                    \n",
    "            if epoch % 5 == 0:\n",
    "                print(f\"Loss at epoch {epoch}: {avg_loss / num_samples}\")        \n",
    "                print(\"-----------------------------------------------------------\")\n",
    "    \n",
    "    def predict(self, X):\n",
    "        num_samples = len(X)\n",
    "        predictions = []\n",
    "        for i in range(num_samples):\n",
    "            x = X[i]\n",
    "            result = self.run(x)\n",
    "            predictions.append(result)\n",
    "        return np.array(predictions).astype(float)\n",
    "            "
   ]
  },
  {
   "cell_type": "code",
   "execution_count": 231,
   "id": "f5b3b9f5",
   "metadata": {},
   "outputs": [
    {
     "name": "stdout",
     "output_type": "stream",
     "text": [
      "Loss at epoch 0: 0.23695310516361728\n",
      "-----------------------------------------------------------\n",
      "Loss at epoch 5: 0.11617044461486613\n",
      "-----------------------------------------------------------\n",
      "Loss at epoch 10: 0.07978153595891962\n",
      "-----------------------------------------------------------\n",
      "Loss at epoch 15: 0.0488532691464914\n",
      "-----------------------------------------------------------\n",
      "Loss at epoch 20: 0.03213299792888102\n",
      "-----------------------------------------------------------\n",
      "Loss at epoch 25: 0.023722997436336348\n",
      "-----------------------------------------------------------\n",
      "Loss at epoch 30: 0.020285266323197357\n",
      "-----------------------------------------------------------\n",
      "Loss at epoch 35: 0.019223942472075477\n",
      "-----------------------------------------------------------\n",
      "Loss at epoch 40: 0.018674860226568155\n",
      "-----------------------------------------------------------\n",
      "Loss at epoch 45: 0.01839992135874057\n",
      "-----------------------------------------------------------\n",
      "Loss at epoch 50: 0.018232161122202554\n",
      "-----------------------------------------------------------\n",
      "Loss at epoch 55: 0.018147083003490955\n",
      "-----------------------------------------------------------\n",
      "Loss at epoch 60: 0.018108451003391764\n",
      "-----------------------------------------------------------\n",
      "Loss at epoch 65: 0.01809380047763114\n",
      "-----------------------------------------------------------\n",
      "Loss at epoch 70: 0.018094436383523385\n",
      "-----------------------------------------------------------\n",
      "Loss at epoch 75: 0.01809418271105107\n",
      "-----------------------------------------------------------\n",
      "Loss at epoch 80: 0.018093133781526858\n",
      "-----------------------------------------------------------\n",
      "Loss at epoch 85: 0.01809143130212128\n",
      "-----------------------------------------------------------\n",
      "Loss at epoch 90: 0.018089214037494344\n",
      "-----------------------------------------------------------\n",
      "Loss at epoch 95: 0.018086600276557473\n",
      "-----------------------------------------------------------\n",
      "Loss at epoch 100: 0.018083684385538767\n",
      "-----------------------------------------------------------\n",
      "Loss at epoch 105: 0.018080538885427436\n",
      "-----------------------------------------------------------\n",
      "Loss at epoch 110: 0.01807721823295381\n",
      "-----------------------------------------------------------\n",
      "Loss at epoch 115: 0.01807376269524023\n",
      "-----------------------------------------------------------\n",
      "Loss at epoch 120: 0.01807020172282411\n",
      "-----------------------------------------------------------\n",
      "Loss at epoch 125: 0.018066556674017988\n",
      "-----------------------------------------------------------\n",
      "Loss at epoch 130: 0.018062842926463638\n",
      "-----------------------------------------------------------\n",
      "Loss at epoch 135: 0.018059071473413686\n",
      "-----------------------------------------------------------\n",
      "Loss at epoch 140: 0.01805525011138355\n",
      "-----------------------------------------------------------\n",
      "Loss at epoch 145: 0.01805138431448413\n",
      "-----------------------------------------------------------\n",
      "Loss at epoch 150: 0.018047477873492108\n",
      "-----------------------------------------------------------\n",
      "Loss at epoch 155: 0.018043533360656096\n",
      "-----------------------------------------------------------\n",
      "Loss at epoch 160: 0.018039552466593115\n",
      "-----------------------------------------------------------\n",
      "Loss at epoch 165: 0.018035536243881618\n",
      "-----------------------------------------------------------\n",
      "Loss at epoch 170: 0.0180314852828869\n",
      "-----------------------------------------------------------\n",
      "Loss at epoch 175: 0.018027399838512627\n",
      "-----------------------------------------------------------\n",
      "Loss at epoch 180: 0.01802327992149017\n",
      "-----------------------------------------------------------\n",
      "Loss at epoch 185: 0.01801912536407894\n",
      "-----------------------------------------------------------\n",
      "Loss at epoch 190: 0.018014935867321002\n",
      "-----------------------------------------------------------\n",
      "Loss at epoch 195: 0.018010711035008526\n",
      "-----------------------------------------------------------\n"
     ]
    }
   ],
   "source": [
    "model = Model(1)\n",
    "model.train(200, x_train, y_train)"
   ]
  },
  {
   "cell_type": "code",
   "execution_count": 232,
   "id": "00775059",
   "metadata": {},
   "outputs": [],
   "source": [
    "x_test, y_test = generate_data(50)\n",
    "x_test = x_test.reshape(-1, 1)\n",
    "y_test = y_test.reshape(-1, 1)\n",
    "\n",
    "predictions = model.predict(x_test)"
   ]
  },
  {
   "cell_type": "code",
   "execution_count": 233,
   "id": "f206f53e",
   "metadata": {},
   "outputs": [],
   "source": [
    "predictions = predictions.reshape(50,)"
   ]
  },
  {
   "cell_type": "code",
   "execution_count": 236,
   "id": "4e15683a",
   "metadata": {},
   "outputs": [
    {
     "data": {
      "image/png": "[encoded data removed]",
      "text/plain": [
       "<Figure size 640x480 with 1 Axes>"
      ]
     },
     "metadata": {},
     "output_type": "display_data"
    }
   ],
   "source": [
    "plt.scatter(x_test, predictions, color=\"red\", label=\"Predictions\")\n",
    "plt.scatter(x_test, y_test, color=\"blue\", label=\"Test data\")\n",
    "plt.title(\"Prediction results\")\n",
    "plt.xlabel(\"x\")\n",
    "plt.ylabel(\"y\")\n",
    "plt.legend()\n",
    "plt.show()"
   ]
  },
  {
   "cell_type": "code",
   "execution_count": 235,
   "id": "09ff8c13",
   "metadata": {},
   "outputs": [
    {
     "name": "stdout",
     "output_type": "stream",
     "text": [
      "The test loss is: 0.21236047012563927\n"
     ]
    }
   ],
   "source": [
    "print(f\"The test loss is: {loss(predictions, y_test)}\")"
   ]
  }
 ],
 "metadata": {
  "kernelspec": {
   "display_name": "Python 3 (ipykernel)",
   "language": "python",
   "name": "python3"
  },
  "language_info": {
   "codemirror_mode": {
    "name": "ipython",
    "version": 3
   },
   "file_extension": ".py",
   "mimetype": "text/x-python",
   "name": "python",
   "nbconvert_exporter": "python",
   "pygments_lexer": "ipython3",
   "version": "3.10.9"
  }
 },
 "nbformat": 4,
 "nbformat_minor": 5
}
